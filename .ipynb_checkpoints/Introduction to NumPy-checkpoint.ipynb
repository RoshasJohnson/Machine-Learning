{
 "cells": [
  {
   "cell_type": "code",
   "execution_count": 2,
   "id": "ab5e6799",
   "metadata": {},
   "outputs": [],
   "source": [
    "import numpy as np\n",
    "a3 = np.array([[[1, 2, 3],\n",
    "                [4, 5, 6]],\n",
    "               [[7, 8, 9],\n",
    "                [10, 11, 12]],\n",
    "               [[13, 14, 15],\n",
    "                [16, 17, 18]]])"
   ]
  },
  {
   "cell_type": "code",
   "execution_count": 3,
   "id": "eb1f27a8",
   "metadata": {},
   "outputs": [
    {
     "data": {
      "text/plain": [
       "array([[[ 1,  2,  3],\n",
       "        [ 4,  5,  6]],\n",
       "\n",
       "       [[ 7,  8,  9],\n",
       "        [10, 11, 12]],\n",
       "\n",
       "       [[13, 14, 15],\n",
       "        [16, 17, 18]]])"
      ]
     },
     "execution_count": 3,
     "metadata": {},
     "output_type": "execute_result"
    }
   ],
   "source": [
    "a3"
   ]
  },
  {
   "cell_type": "code",
   "execution_count": 4,
   "id": "02187dcf",
   "metadata": {},
   "outputs": [],
   "source": [
    "for i in a3:\n",
    "    i"
   ]
  },
  {
   "cell_type": "raw",
   "id": "e05ce349",
   "metadata": {},
   "source": [
    "i"
   ]
  },
  {
   "cell_type": "raw",
   "id": "155e318e",
   "metadata": {},
   "source": []
  },
  {
   "cell_type": "raw",
   "id": "adf173ce",
   "metadata": {},
   "source": []
  },
  {
   "cell_type": "raw",
   "id": "e170f31d",
   "metadata": {},
   "source": []
  }
 ],
 "metadata": {
  "kernelspec": {
   "display_name": "Python 3 (ipykernel)",
   "language": "python",
   "name": "python3"
  },
  "language_info": {
   "codemirror_mode": {
    "name": "ipython",
    "version": 3
   },
   "file_extension": ".py",
   "mimetype": "text/x-python",
   "name": "python",
   "nbconvert_exporter": "python",
   "pygments_lexer": "ipython3",
   "version": "3.9.12"
  }
 },
 "nbformat": 4,
 "nbformat_minor": 5
}
